{
 "cells": [
  {
   "cell_type": "code",
   "execution_count": 5,
   "metadata": {},
   "outputs": [],
   "source": [
    "import os\n",
    "import shutil\n",
    "import random\n",
    "from sklearn.model_selection import train_test_split\n",
    "# Direktori dataset awal\n",
    "DATASET_DIR = \"/workspaces/Image-Classification-for-Cat-Dog-and-Tiger/submission/data\"\n",
    "\n",
    "# Direktori baru setelah dipisah\n",
    "BASE_DIR = \"../submission\"\n",
    "TRAIN_DIR = os.path.join(BASE_DIR, \"train\")\n",
    "VAL_DIR = os.path.join(BASE_DIR, \"val\")\n",
    "TEST_DIR = os.path.join(BASE_DIR, \"test\")\n",
    "\n",
    "# Fungsi untuk membagi dataset\n",
    "def split_data():\n",
    "    if os.path.exists(BASE_DIR):\n",
    "        shutil.rmtree(BASE_DIR)  # Hapus folder lama jika ada\n",
    "    os.makedirs(TRAIN_DIR)\n",
    "    os.makedirs(VAL_DIR)\n",
    "    os.makedirs(TEST_DIR)\n",
    "\n",
    "    for class_name in os.listdir(DATASET_DIR):\n",
    "        class_path = os.path.join(DATASET_DIR, class_name)\n",
    "        if not os.path.isdir(class_path):\n",
    "            continue\n",
    "\n",
    "        images = os.listdir(class_path)\n",
    "        random.shuffle(images)\n",
    "\n",
    "        train_files, temp_files = train_test_split(images, test_size=0.3, random_state=42)\n",
    "        val_files, test_files = train_test_split(temp_files, test_size=0.33, random_state=42)  # 0.33 dari 30% (≈10%)\n",
    "\n",
    "        # Buat folder untuk setiap kelas\n",
    "        for dataset, dataset_dir in zip([train_files, val_files, test_files], [TRAIN_DIR, VAL_DIR, TEST_DIR]):\n",
    "            class_dataset_dir = os.path.join(dataset_dir, class_name)\n",
    "            os.makedirs(class_dataset_dir)\n",
    "            for file in dataset:\n",
    "                shutil.copy(os.path.join(class_path, file), os.path.join(class_dataset_dir, file))\n",
    "\n",
    "# Jalankan pemisahan dataset\n",
    "split_data()"
   ]
  },
  {
   "cell_type": "code",
   "execution_count": 9,
   "metadata": {},
   "outputs": [
    {
     "name": "stdout",
     "output_type": "stream",
     "text": [
      "Total Images: 15000\n",
      "tigers: 5000 images\n",
      "dogs: 5000 images\n",
      "cats: 5000 images\n"
     ]
    }
   ],
   "source": [
    "import os\n",
    "\n",
    "def count_images(directory):\n",
    "    total_images = 0\n",
    "    class_counts = {}\n",
    "\n",
    "    for class_name in os.listdir(directory):\n",
    "        class_path = os.path.join(directory, class_name)\n",
    "        if os.path.isdir(class_path):  # Pastikan hanya membaca folder\n",
    "            num_images = len([file for file in os.listdir(class_path) if os.path.isfile(os.path.join(class_path, file))])\n",
    "            class_counts[class_name] = num_images\n",
    "            total_images += num_images\n",
    "\n",
    "    print(\"Total Images:\", total_images)\n",
    "    for class_name, count in class_counts.items():\n",
    "        print(f\"{class_name}: {count} images\")\n",
    "\n",
    "# Ganti dengan path ke direktori yang ingin diperiksa\n",
    "DIRECTORY_PATH = \"submission/data\"\n",
    "\n",
    "count_images(DIRECTORY_PATH)\n"
   ]
  },
  {
   "cell_type": "code",
   "execution_count": 11,
   "metadata": {},
   "outputs": [
    {
     "name": "stdout",
     "output_type": "stream",
     "text": [
      "Dataset berhasil dibagi sesuai rasio 70% - 20% - 10%!\n"
     ]
    }
   ],
   "source": [
    "import os\n",
    "import shutil\n",
    "import random\n",
    "\n",
    "# Direktori dataset awal\n",
    "DATASET_DIR = \"/workspaces/Image-Classification-for-Cat-Dog-and-Tiger/submission/data\"\n",
    "\n",
    "# Direktori baru setelah dipisah\n",
    "BASE_DIR = \"./split_dataset\"\n",
    "TRAIN_DIR = os.path.join(BASE_DIR, \"train\")\n",
    "VAL_DIR = os.path.join(BASE_DIR, \"val\")\n",
    "TEST_DIR = os.path.join(BASE_DIR, \"test\")\n",
    "\n",
    "# Jumlah target gambar per kelas\n",
    "TRAIN_COUNT = 3500  # 70%\n",
    "VAL_COUNT = 1000    # 20%\n",
    "TEST_COUNT = 500    # 10%\n",
    "\n",
    "def split_data():\n",
    "    # Hapus direktori lama jika sudah ada\n",
    "    if os.path.exists(BASE_DIR):\n",
    "        shutil.rmtree(BASE_DIR)\n",
    "\n",
    "    # Buat direktori baru\n",
    "    os.makedirs(TRAIN_DIR)\n",
    "    os.makedirs(VAL_DIR)\n",
    "    os.makedirs(TEST_DIR)\n",
    "\n",
    "    for class_name in os.listdir(DATASET_DIR):\n",
    "        class_path = os.path.join(DATASET_DIR, class_name)\n",
    "        if not os.path.isdir(class_path):\n",
    "            continue  # Lewati jika bukan folder\n",
    "        \n",
    "        images = os.listdir(class_path)\n",
    "        random.shuffle(images)  # Acak gambar sebelum dipisah\n",
    "\n",
    "        # Pastikan jumlah gambar cukup\n",
    "        total_images = len(images)\n",
    "        if total_images < (TRAIN_COUNT + VAL_COUNT + TEST_COUNT):\n",
    "            print(f\"Warning: Tidak cukup gambar di kelas {class_name} (Hanya {total_images} tersedia)\")\n",
    "            continue\n",
    "        \n",
    "        # Bagi dataset sesuai jumlah target\n",
    "        train_files = images[:TRAIN_COUNT]\n",
    "        val_files = images[TRAIN_COUNT:TRAIN_COUNT + VAL_COUNT]\n",
    "        test_files = images[TRAIN_COUNT + VAL_COUNT:TRAIN_COUNT + VAL_COUNT + TEST_COUNT]\n",
    "\n",
    "        # Buat folder kelas di setiap set (train, val, test)\n",
    "        for dataset, dataset_dir in zip([train_files, val_files, test_files], [TRAIN_DIR, VAL_DIR, TEST_DIR]):\n",
    "            class_dataset_dir = os.path.join(dataset_dir, class_name)\n",
    "            os.makedirs(class_dataset_dir)\n",
    "            for file in dataset:\n",
    "                shutil.copy(os.path.join(class_path, file), os.path.join(class_dataset_dir, file))\n",
    "\n",
    "    print(\"Dataset berhasil dibagi sesuai rasio 70% - 20% - 10%!\")\n",
    "\n",
    "# Jalankan pemisahan dataset\n",
    "split_data()\n"
   ]
  }
 ],
 "metadata": {
  "kernelspec": {
   "display_name": ".csn",
   "language": "python",
   "name": "python3"
  },
  "language_info": {
   "codemirror_mode": {
    "name": "ipython",
    "version": 3
   },
   "file_extension": ".py",
   "mimetype": "text/x-python",
   "name": "python",
   "nbconvert_exporter": "python",
   "pygments_lexer": "ipython3",
   "version": "3.12.9"
  }
 },
 "nbformat": 4,
 "nbformat_minor": 2
}
